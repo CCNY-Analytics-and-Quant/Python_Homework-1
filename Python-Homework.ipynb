{
 "cells": [
  {
   "cell_type": "code",
   "execution_count": null,
   "metadata": {},
   "outputs": [],
   "source": [
    "#ForLoop\n",
    "acct_bal = float(input(\"What your current account balance?\"))\n",
    "deposit = float(input(\"What is your yearly contribution?\"))\n",
    "cur_age = int(input(\"Enter your age:\"))\n",
    "ret_age = int(input(\"Enter your retirement age:\"))\n",
    "\n",
    "salary = float(input(\"What is your current salary?\"))\n",
    "rf_rate = float(input(\"What is the annual raise percentage?\"))\n",
    "match_rate = float(input(\"What is your employer's match rate?\"))\n",
    "\n",
    "investment_return = 0.14\n",
    "matching = 0\n",
    "\n",
    "for year in range (cur_age, ret_age):\n",
    "        salary *= 1 + rf_rate\n",
    "        matching = salary * match_rate\n",
    "        acct_bal += deposit + matching\n",
    "        acct_bal *= (1 + investment_return)\n",
    "\n",
    "print(f\"At age {ret_age}, your account balance will be ${acct_bal:,.2f}.\")"
   ]
  },
  {
   "cell_type": "code",
   "execution_count": null,
   "metadata": {},
   "outputs": [],
   "source": [
    "#WhileLoop\n",
    "\n",
    "salary = float(input(\"What is your current salary?\"))\n",
    "desired_bal = float(input(\"What is your desired retirement balance?\"))\n",
    "cur_age = int(input(\"Enter your age:\"))\n",
    "\n",
    "acct_bal = 0\n",
    "rf_rate = 0.025\n",
    "match_rate = 0.05\n",
    "annual_return = 0.14\n",
    "matching = 0\n",
    "years = 45\n",
    "\n",
    "while acct_bal < desired_bal and salary < 100000:\n",
    "\n",
    "    salary *= 1 + rf_rate\n",
    "    deposit = 0.15 * salary\n",
    "    matching = salary *match_rate\n",
    "\n",
    "    acct_bal += deposit + matching\n",
    "    acct_bal += acct_bal * annual_return\n",
    "\n",
    "    year += 1\n",
    "\n",
    "retirement_age = cur_age + years\n",
    "\n",
    "print(f\"Your projected salary after {years} years will be: ${salary: .2f}\")\n",
    "print(f\"You can retire at age {retirement_age} with an account balance of: ${acct_bal:.2f}\")"
   ]
  },
  {
   "cell_type": "code",
   "execution_count": 2,
   "metadata": {},
   "outputs": [
    {
     "name": "stdout",
     "output_type": "stream",
     "text": [
      "At age 67, your account balance will be $51,993,956.61.\n"
     ]
    }
   ],
   "source": [
    "#forloop function\n",
    "\n",
    "def retirement_savings_calculator(acct_bal, deposit, cur_age, ret_age, salary, rf_rate, match_rate, investment_return=0.14):\n",
    "    \"\"\"Calculate the retirement savings given various input parameters.\"\"\"\n",
    "    matching = 0\n",
    "    \n",
    "    for year in range(cur_age, ret_age):\n",
    "        salary *= (1 + rf_rate)\n",
    "        matching = salary * match_rate\n",
    "        acct_bal += deposit + matching\n",
    "        acct_bal *= (1 + investment_return)\n",
    "    \n",
    "    return acct_bal\n",
    "\n",
    "\n",
    "acct_bal = float(input(\"What's your current account balance?\"))\n",
    "deposit = float(input(\"What's your yearly contribution?\"))\n",
    "cur_age = int(input(\"Enter your current age:\"))\n",
    "ret_age = int(input(\"Enter your retirement age:\"))\n",
    "\n",
    "salary = float(input(\"What's your current salary?\"))\n",
    "rf_rate = float(input(\"Enter the annual raise percentage (e.g. 0.05 for 5%):\"))\n",
    "match_rate = float(input(\"Enter your employer's match rate (e.g. 0.05 for 5%):\"))\n",
    "\n",
    "\n",
    "final_balance = retirement_savings_calculator(acct_bal, deposit, cur_age, ret_age, salary, rf_rate, match_rate)\n",
    "\n",
    "print(f\"At age {ret_age}, your account balance will be ${final_balance:,.2f}.\")\n"
   ]
  },
  {
   "cell_type": "code",
   "execution_count": 3,
   "metadata": {},
   "outputs": [
    {
     "name": "stdout",
     "output_type": "stream",
     "text": [
      "Your projected salary after 36 years will be: $102166.48\n",
      "You can retire at age 58 with an account balance of: $9337575.06\n"
     ]
    }
   ],
   "source": [
    "#Whileloop function\n",
    "def retirement_age_calculator(salary, desired_bal, cur_age):\n",
    "    \"\"\"Calculate the retirement age based on desired balance and current salary.\"\"\"\n",
    "    \n",
    "    acct_bal = 0\n",
    "    rf_rate = 0.025\n",
    "    match_rate = 0.05\n",
    "    annual_return = 0.14\n",
    "    matching = 0\n",
    "    years = 0\n",
    "\n",
    "    while acct_bal < desired_bal and salary < 100000:\n",
    "        salary *= 1 + rf_rate\n",
    "        deposit = 0.15 * salary\n",
    "        matching = salary * match_rate\n",
    "\n",
    "        acct_bal += deposit + matching\n",
    "        acct_bal *= (1 + annual_return)\n",
    "\n",
    "        years += 1\n",
    "\n",
    "    retirement_age = cur_age + years\n",
    "    \n",
    "    return salary, retirement_age, acct_bal\n",
    "\n",
    "# User Input\n",
    "salary = float(input(\"What's your current salary?\"))\n",
    "desired_bal = float(input(\"What's your desired retirement balance?\"))\n",
    "cur_age = int(input(\"Enter your current age:\"))\n",
    "\n",
    "# Function Call\n",
    "final_salary, retirement_age, final_balance = retirement_age_calculator(salary, desired_bal, cur_age)\n",
    "\n",
    "print(f\"Your projected salary after {retirement_age - cur_age} years will be: ${final_salary:.2f}\")\n",
    "print(f\"You can retire at age {retirement_age} with an account balance of: ${final_balance:.2f}\")\n"
   ]
  }
 ],
 "metadata": {
  "kernelspec": {
   "display_name": "Python 3",
   "language": "python",
   "name": "python3"
  },
  "language_info": {
   "codemirror_mode": {
    "name": "ipython",
    "version": 3
   },
   "file_extension": ".py",
   "mimetype": "text/x-python",
   "name": "python",
   "nbconvert_exporter": "python",
   "pygments_lexer": "ipython3",
   "version": "3.11.6"
  }
 },
 "nbformat": 4,
 "nbformat_minor": 2
}
